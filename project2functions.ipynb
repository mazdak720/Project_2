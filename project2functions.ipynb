{
 "cells": [
  {
   "cell_type": "code",
   "execution_count": null,
   "metadata": {
    "collapsed": true
   },
   "outputs": [],
   "source": [
    "import pandas as pd\n",
    "import numpy as np\n",
    "import matplotlib.pyplot as plt"
   ]
  },
  {
   "cell_type": "code",
   "execution_count": 1,
   "metadata": {
    "collapsed": true
   },
   "outputs": [],
   "source": [
    "def import_refresh_data(ship):\n",
    "    if ship == \"Titanic\":\n",
    "        titanic_path = \"assets/titanic.csv\"\n",
    "        titanic_data = pd.read_csv(titanic_path)\n",
    "    elif ship == \"Lusitania\":\n",
    "        lusitania_path = \"assets/lusitania.csv\"\n",
    "        lusitania_data = pd.read_csv(lusitania_path, encoding = \"ISO-8859-1\")        \n",
    "    else:\n",
    "        print (\"Wrong ship!\")"
   ]
  },
  {
   "cell_type": "code",
   "execution_count": 4,
   "metadata": {
    "collapsed": true
   },
   "outputs": [],
   "source": [
    "def column_data_explore(df, column):\n",
    "    nulls = sum(df[column].isnull())\n",
    "    data_type = df[column].dtype\n",
    "    unique_values = df[column].unique()\n",
    "    print (\"Number of null values in \" + column + \" column is \" + str(nulls))\n",
    "    print (column + \" column data type are \" + str(data_type))\n",
    "    print (\"Unique values for \" + column + \" column is as below:\")\n",
    "    print unique_values"
   ]
  },
  {
   "cell_type": "code",
   "execution_count": 3,
   "metadata": {
    "collapsed": true
   },
   "outputs": [],
   "source": [
    "def title_cleaned(title):\n",
    "    if re.search(\"Mr.\", title):\n",
    "        title = \"Mr.\"\n",
    "        return(title)\n",
    "    elif re.search(\"Master\", title):\n",
    "        title = \"Master\"\n",
    "        return(title)\n",
    "    else:\n",
    "        return(title)"
   ]
  },
  {
   "cell_type": "code",
   "execution_count": null,
   "metadata": {
    "collapsed": true
   },
   "outputs": [],
   "source": []
  },
  {
   "cell_type": "code",
   "execution_count": null,
   "metadata": {
    "collapsed": true
   },
   "outputs": [],
   "source": []
  },
  {
   "cell_type": "code",
   "execution_count": null,
   "metadata": {
    "collapsed": true
   },
   "outputs": [],
   "source": []
  },
  {
   "cell_type": "code",
   "execution_count": null,
   "metadata": {
    "collapsed": true
   },
   "outputs": [],
   "source": []
  },
  {
   "cell_type": "code",
   "execution_count": null,
   "metadata": {
    "collapsed": true
   },
   "outputs": [],
   "source": []
  }
 ],
 "metadata": {
  "kernelspec": {
   "display_name": "Python 2",
   "language": "python",
   "name": "python2"
  },
  "language_info": {
   "codemirror_mode": {
    "name": "ipython",
    "version": 2
   },
   "file_extension": ".py",
   "mimetype": "text/x-python",
   "name": "python",
   "nbconvert_exporter": "python",
   "pygments_lexer": "ipython2",
   "version": "2.7.12"
  }
 },
 "nbformat": 4,
 "nbformat_minor": 1
}
