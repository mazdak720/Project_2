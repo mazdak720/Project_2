{
 "cells": [
  {
   "cell_type": "markdown",
   "metadata": {},
   "source": [
    "# Project 2:  Lucid Titanic Sleuthing"
   ]
  },
  {
   "cell_type": "markdown",
   "metadata": {},
   "source": [
    "## Part 1: Developing an understanding of the data"
   ]
  },
  {
   "cell_type": "markdown",
   "metadata": {},
   "source": [
    "#### Based on the description of the data you read in the readme describe in your own words this data."
   ]
  },
  {
   "cell_type": "markdown",
   "metadata": {
    "collapsed": true
   },
   "source": []
  },
  {
   "cell_type": "markdown",
   "metadata": {},
   "source": [
    "#### Based on our conceptual understanding of the columns in this data set.  What are the reasonable range of the values for the Sex, Age, SibSp, Parch columns."
   ]
  },
  {
   "cell_type": "markdown",
   "metadata": {
    "collapsed": true
   },
   "source": []
  },
  {
   "cell_type": "markdown",
   "metadata": {},
   "source": [
    "### Open the data in sublime text is there anything that jumps out to you?"
   ]
  },
  {
   "cell_type": "markdown",
   "metadata": {
    "collapsed": true
   },
   "source": []
  },
  {
   "cell_type": "markdown",
   "metadata": {},
   "source": [
    "## Part 2: reading the data in"
   ]
  },
  {
   "cell_type": "markdown",
   "metadata": {},
   "source": [
    "#### Now read the data into a Pandas DataFrame"
   ]
  },
  {
   "cell_type": "code",
   "execution_count": 656,
   "metadata": {
    "collapsed": false
   },
   "outputs": [],
   "source": [
    "import pandas as pd\n",
    "import numpy as np\n",
    "from scipy.stats import chisquare\n",
    "from scipy.stats import chi2_contingency\n",
    "from sklearn import preprocessing\n",
    "import math\n",
    "import re"
   ]
  },
  {
   "cell_type": "code",
   "execution_count": 657,
   "metadata": {
    "collapsed": true
   },
   "outputs": [],
   "source": [
    "def import_refresh_data(ship):\n",
    "    if ship == \"Titanic\":\n",
    "        titanic_path = \"assets/titanic.csv\"\n",
    "        data = pd.read_csv(titanic_path)\n",
    "    elif ship == \"Lusitania\":\n",
    "        lusitania_path = \"assets/lusitania.csv\"\n",
    "        data = pd.read_csv(lusitania_path, encoding = \"ISO-8859-1\")        \n",
    "    else:\n",
    "        print (\"Wrong ship!\")\n",
    "    return(data)"
   ]
  },
  {
   "cell_type": "code",
   "execution_count": 658,
   "metadata": {
    "collapsed": false
   },
   "outputs": [],
   "source": [
    "titanic_data = import_refresh_data(\"Titanic\")"
   ]
  },
  {
   "cell_type": "code",
   "execution_count": 659,
   "metadata": {
    "collapsed": false
   },
   "outputs": [
    {
     "data": {
      "text/html": [
       "<div>\n",
       "<table border=\"1\" class=\"dataframe\">\n",
       "  <thead>\n",
       "    <tr style=\"text-align: right;\">\n",
       "      <th></th>\n",
       "      <th>0</th>\n",
       "      <th>1</th>\n",
       "      <th>2</th>\n",
       "      <th>3</th>\n",
       "      <th>4</th>\n",
       "    </tr>\n",
       "  </thead>\n",
       "  <tbody>\n",
       "    <tr>\n",
       "      <th>pclass</th>\n",
       "      <td>1</td>\n",
       "      <td>1</td>\n",
       "      <td>1</td>\n",
       "      <td>1</td>\n",
       "      <td>1</td>\n",
       "    </tr>\n",
       "    <tr>\n",
       "      <th>survived</th>\n",
       "      <td>1</td>\n",
       "      <td>1</td>\n",
       "      <td>0</td>\n",
       "      <td>0</td>\n",
       "      <td>0</td>\n",
       "    </tr>\n",
       "    <tr>\n",
       "      <th>name</th>\n",
       "      <td>Allen, Miss. Elisabeth Walton</td>\n",
       "      <td>Allison, Master. Hudson Trevor</td>\n",
       "      <td>Allison, Miss. Helen Loraine</td>\n",
       "      <td>Allison, Mr. Hudson Joshua Creighton</td>\n",
       "      <td>Allison, Mrs. Hudson J C (Bessie Waldo Daniels)</td>\n",
       "    </tr>\n",
       "    <tr>\n",
       "      <th>sex</th>\n",
       "      <td>female</td>\n",
       "      <td>male</td>\n",
       "      <td>female</td>\n",
       "      <td>male</td>\n",
       "      <td>female</td>\n",
       "    </tr>\n",
       "    <tr>\n",
       "      <th>age</th>\n",
       "      <td>29</td>\n",
       "      <td>0.92</td>\n",
       "      <td>2</td>\n",
       "      <td>30</td>\n",
       "      <td>25</td>\n",
       "    </tr>\n",
       "    <tr>\n",
       "      <th>sibsp</th>\n",
       "      <td>0</td>\n",
       "      <td>1</td>\n",
       "      <td>1</td>\n",
       "      <td>1</td>\n",
       "      <td>1</td>\n",
       "    </tr>\n",
       "    <tr>\n",
       "      <th>parch</th>\n",
       "      <td>0</td>\n",
       "      <td>2</td>\n",
       "      <td>2</td>\n",
       "      <td>2</td>\n",
       "      <td>2</td>\n",
       "    </tr>\n",
       "    <tr>\n",
       "      <th>ticket</th>\n",
       "      <td>24160</td>\n",
       "      <td>113781</td>\n",
       "      <td>113781</td>\n",
       "      <td>113781</td>\n",
       "      <td>113781</td>\n",
       "    </tr>\n",
       "    <tr>\n",
       "      <th>fare</th>\n",
       "      <td>211.338</td>\n",
       "      <td>151.55</td>\n",
       "      <td>151.55</td>\n",
       "      <td>151.55</td>\n",
       "      <td>151.55</td>\n",
       "    </tr>\n",
       "    <tr>\n",
       "      <th>cabin</th>\n",
       "      <td>B5</td>\n",
       "      <td>C22 C26</td>\n",
       "      <td>C22 C26</td>\n",
       "      <td>C22 C26</td>\n",
       "      <td>C22 C26</td>\n",
       "    </tr>\n",
       "    <tr>\n",
       "      <th>embarked</th>\n",
       "      <td>S</td>\n",
       "      <td>S</td>\n",
       "      <td>S</td>\n",
       "      <td>S</td>\n",
       "      <td>S</td>\n",
       "    </tr>\n",
       "    <tr>\n",
       "      <th>boat</th>\n",
       "      <td>2</td>\n",
       "      <td>11</td>\n",
       "      <td>NaN</td>\n",
       "      <td>NaN</td>\n",
       "      <td>NaN</td>\n",
       "    </tr>\n",
       "    <tr>\n",
       "      <th>body</th>\n",
       "      <td>NaN</td>\n",
       "      <td>NaN</td>\n",
       "      <td>NaN</td>\n",
       "      <td>135</td>\n",
       "      <td>NaN</td>\n",
       "    </tr>\n",
       "    <tr>\n",
       "      <th>home.dest</th>\n",
       "      <td>St Louis, MO</td>\n",
       "      <td>Montreal, PQ / Chesterville, ON</td>\n",
       "      <td>Montreal, PQ / Chesterville, ON</td>\n",
       "      <td>Montreal, PQ / Chesterville, ON</td>\n",
       "      <td>Montreal, PQ / Chesterville, ON</td>\n",
       "    </tr>\n",
       "  </tbody>\n",
       "</table>\n",
       "</div>"
      ],
      "text/plain": [
       "                                       0                                1  \\\n",
       "pclass                                 1                                1   \n",
       "survived                               1                                1   \n",
       "name       Allen, Miss. Elisabeth Walton   Allison, Master. Hudson Trevor   \n",
       "sex                               female                             male   \n",
       "age                                   29                             0.92   \n",
       "sibsp                                  0                                1   \n",
       "parch                                  0                                2   \n",
       "ticket                             24160                           113781   \n",
       "fare                             211.338                           151.55   \n",
       "cabin                                 B5                          C22 C26   \n",
       "embarked                               S                                S   \n",
       "boat                                   2                               11   \n",
       "body                                 NaN                              NaN   \n",
       "home.dest                   St Louis, MO  Montreal, PQ / Chesterville, ON   \n",
       "\n",
       "                                         2  \\\n",
       "pclass                                   1   \n",
       "survived                                 0   \n",
       "name          Allison, Miss. Helen Loraine   \n",
       "sex                                 female   \n",
       "age                                      2   \n",
       "sibsp                                    1   \n",
       "parch                                    2   \n",
       "ticket                              113781   \n",
       "fare                                151.55   \n",
       "cabin                              C22 C26   \n",
       "embarked                                 S   \n",
       "boat                                   NaN   \n",
       "body                                   NaN   \n",
       "home.dest  Montreal, PQ / Chesterville, ON   \n",
       "\n",
       "                                              3  \\\n",
       "pclass                                        1   \n",
       "survived                                      0   \n",
       "name       Allison, Mr. Hudson Joshua Creighton   \n",
       "sex                                        male   \n",
       "age                                          30   \n",
       "sibsp                                         1   \n",
       "parch                                         2   \n",
       "ticket                                   113781   \n",
       "fare                                     151.55   \n",
       "cabin                                   C22 C26   \n",
       "embarked                                      S   \n",
       "boat                                        NaN   \n",
       "body                                        135   \n",
       "home.dest       Montreal, PQ / Chesterville, ON   \n",
       "\n",
       "                                                         4  \n",
       "pclass                                                   1  \n",
       "survived                                                 0  \n",
       "name       Allison, Mrs. Hudson J C (Bessie Waldo Daniels)  \n",
       "sex                                                 female  \n",
       "age                                                     25  \n",
       "sibsp                                                    1  \n",
       "parch                                                    2  \n",
       "ticket                                              113781  \n",
       "fare                                                151.55  \n",
       "cabin                                              C22 C26  \n",
       "embarked                                                 S  \n",
       "boat                                                   NaN  \n",
       "body                                                   NaN  \n",
       "home.dest                  Montreal, PQ / Chesterville, ON  "
      ]
     },
     "execution_count": 659,
     "metadata": {},
     "output_type": "execute_result"
    }
   ],
   "source": [
    "titanic_data.head().T"
   ]
  },
  {
   "cell_type": "code",
   "execution_count": 660,
   "metadata": {
    "collapsed": false
   },
   "outputs": [],
   "source": [
    "lusitania_data = import_refresh_data(\"Lusitania\")"
   ]
  },
  {
   "cell_type": "code",
   "execution_count": 661,
   "metadata": {
    "collapsed": false
   },
   "outputs": [
    {
     "data": {
      "text/html": [
       "<div>\n",
       "<table border=\"1\" class=\"dataframe\">\n",
       "  <thead>\n",
       "    <tr style=\"text-align: right;\">\n",
       "      <th></th>\n",
       "      <th>0</th>\n",
       "      <th>1</th>\n",
       "      <th>2</th>\n",
       "      <th>3</th>\n",
       "      <th>4</th>\n",
       "    </tr>\n",
       "  </thead>\n",
       "  <tbody>\n",
       "    <tr>\n",
       "      <th>Family name</th>\n",
       "      <td>CAMERON</td>\n",
       "      <td>CARR-JONES</td>\n",
       "      <td>DRAKEFORD</td>\n",
       "      <td>HAWKINS</td>\n",
       "      <td>HEMINGWAY</td>\n",
       "    </tr>\n",
       "    <tr>\n",
       "      <th>Title</th>\n",
       "      <td>Mr.</td>\n",
       "      <td>Mr.</td>\n",
       "      <td>Mr.</td>\n",
       "      <td>Mr.</td>\n",
       "      <td>Mr.</td>\n",
       "    </tr>\n",
       "    <tr>\n",
       "      <th>Personal name</th>\n",
       "      <td>Charles W.</td>\n",
       "      <td>E.</td>\n",
       "      <td>Edward</td>\n",
       "      <td>Handel</td>\n",
       "      <td>John William</td>\n",
       "    </tr>\n",
       "    <tr>\n",
       "      <th>Fate</th>\n",
       "      <td>Lost</td>\n",
       "      <td>Lost</td>\n",
       "      <td>Saved</td>\n",
       "      <td>Saved</td>\n",
       "      <td>Saved</td>\n",
       "    </tr>\n",
       "    <tr>\n",
       "      <th>Age</th>\n",
       "      <td>38</td>\n",
       "      <td>37</td>\n",
       "      <td>30</td>\n",
       "      <td>25</td>\n",
       "      <td>27</td>\n",
       "    </tr>\n",
       "    <tr>\n",
       "      <th>Department/Class</th>\n",
       "      <td>Band</td>\n",
       "      <td>Band</td>\n",
       "      <td>Band</td>\n",
       "      <td>Band</td>\n",
       "      <td>Band</td>\n",
       "    </tr>\n",
       "    <tr>\n",
       "      <th>Passenger/Crew</th>\n",
       "      <td>Crew</td>\n",
       "      <td>Crew</td>\n",
       "      <td>Crew</td>\n",
       "      <td>Crew</td>\n",
       "      <td>Crew</td>\n",
       "    </tr>\n",
       "    <tr>\n",
       "      <th>Citizenship</th>\n",
       "      <td>British</td>\n",
       "      <td>British</td>\n",
       "      <td>British</td>\n",
       "      <td>British</td>\n",
       "      <td>British</td>\n",
       "    </tr>\n",
       "    <tr>\n",
       "      <th>Position</th>\n",
       "      <td>NaN</td>\n",
       "      <td>NaN</td>\n",
       "      <td>Violin</td>\n",
       "      <td>Cello</td>\n",
       "      <td>Double Bass</td>\n",
       "    </tr>\n",
       "    <tr>\n",
       "      <th>Status</th>\n",
       "      <td>NaN</td>\n",
       "      <td>NaN</td>\n",
       "      <td>NaN</td>\n",
       "      <td>NaN</td>\n",
       "      <td>NaN</td>\n",
       "    </tr>\n",
       "    <tr>\n",
       "      <th>City</th>\n",
       "      <td>NaN</td>\n",
       "      <td>NaN</td>\n",
       "      <td>NaN</td>\n",
       "      <td>NaN</td>\n",
       "      <td>NaN</td>\n",
       "    </tr>\n",
       "    <tr>\n",
       "      <th>County</th>\n",
       "      <td>NaN</td>\n",
       "      <td>NaN</td>\n",
       "      <td>NaN</td>\n",
       "      <td>NaN</td>\n",
       "      <td>NaN</td>\n",
       "    </tr>\n",
       "    <tr>\n",
       "      <th>State</th>\n",
       "      <td>NaN</td>\n",
       "      <td>NaN</td>\n",
       "      <td>NaN</td>\n",
       "      <td>NaN</td>\n",
       "      <td>NaN</td>\n",
       "    </tr>\n",
       "    <tr>\n",
       "      <th>Country</th>\n",
       "      <td>NaN</td>\n",
       "      <td>NaN</td>\n",
       "      <td>NaN</td>\n",
       "      <td>NaN</td>\n",
       "      <td>NaN</td>\n",
       "    </tr>\n",
       "    <tr>\n",
       "      <th>Lifeboat</th>\n",
       "      <td>NaN</td>\n",
       "      <td>NaN</td>\n",
       "      <td>NaN</td>\n",
       "      <td>NaN</td>\n",
       "      <td>NaN</td>\n",
       "    </tr>\n",
       "    <tr>\n",
       "      <th>Rescue Vessel</th>\n",
       "      <td>NaN</td>\n",
       "      <td>NaN</td>\n",
       "      <td>NaN</td>\n",
       "      <td>NaN</td>\n",
       "      <td>NaN</td>\n",
       "    </tr>\n",
       "    <tr>\n",
       "      <th>Body No.</th>\n",
       "      <td>NaN</td>\n",
       "      <td>NaN</td>\n",
       "      <td>NaN</td>\n",
       "      <td>NaN</td>\n",
       "      <td>NaN</td>\n",
       "    </tr>\n",
       "    <tr>\n",
       "      <th>Ticket No.</th>\n",
       "      <td>NaN</td>\n",
       "      <td>NaN</td>\n",
       "      <td>NaN</td>\n",
       "      <td>NaN</td>\n",
       "      <td>NaN</td>\n",
       "    </tr>\n",
       "    <tr>\n",
       "      <th>Cabin No.</th>\n",
       "      <td>NaN</td>\n",
       "      <td>NaN</td>\n",
       "      <td>NaN</td>\n",
       "      <td>NaN</td>\n",
       "      <td>NaN</td>\n",
       "    </tr>\n",
       "    <tr>\n",
       "      <th>Traveling Companions and other notes</th>\n",
       "      <td>NaN</td>\n",
       "      <td>NaN</td>\n",
       "      <td>NaN</td>\n",
       "      <td>NaN</td>\n",
       "      <td>NaN</td>\n",
       "    </tr>\n",
       "    <tr>\n",
       "      <th>Value</th>\n",
       "      <td>1</td>\n",
       "      <td>1</td>\n",
       "      <td>1</td>\n",
       "      <td>1</td>\n",
       "      <td>1</td>\n",
       "    </tr>\n",
       "    <tr>\n",
       "      <th>Adult/Minor</th>\n",
       "      <td>Adult</td>\n",
       "      <td>Adult</td>\n",
       "      <td>Adult</td>\n",
       "      <td>Adult</td>\n",
       "      <td>Adult</td>\n",
       "    </tr>\n",
       "    <tr>\n",
       "      <th>Sex</th>\n",
       "      <td>Male</td>\n",
       "      <td>Male</td>\n",
       "      <td>Male</td>\n",
       "      <td>Male</td>\n",
       "      <td>Male</td>\n",
       "    </tr>\n",
       "  </tbody>\n",
       "</table>\n",
       "</div>"
      ],
      "text/plain": [
       "                                               0           1          2  \\\n",
       "Family name                              CAMERON  CARR-JONES  DRAKEFORD   \n",
       "Title                                        Mr.         Mr.        Mr.   \n",
       "Personal name                         Charles W.          E.     Edward   \n",
       "Fate                                        Lost        Lost      Saved   \n",
       "Age                                           38          37         30   \n",
       "Department/Class                            Band        Band       Band   \n",
       "Passenger/Crew                              Crew        Crew       Crew   \n",
       "Citizenship                              British     British    British   \n",
       "Position                                     NaN         NaN     Violin   \n",
       "Status                                       NaN         NaN        NaN   \n",
       "City                                         NaN         NaN        NaN   \n",
       "County                                       NaN         NaN        NaN   \n",
       "State                                        NaN         NaN        NaN   \n",
       "Country                                      NaN         NaN        NaN   \n",
       "Lifeboat                                     NaN         NaN        NaN   \n",
       "Rescue Vessel                                NaN         NaN        NaN   \n",
       "Body No.                                     NaN         NaN        NaN   \n",
       "Ticket No.                                   NaN         NaN        NaN   \n",
       "Cabin No.                                    NaN         NaN        NaN   \n",
       "Traveling Companions and other notes         NaN         NaN        NaN   \n",
       "Value                                          1           1          1   \n",
       "Adult/Minor                                Adult       Adult      Adult   \n",
       "Sex                                         Male        Male       Male   \n",
       "\n",
       "                                            3             4  \n",
       "Family name                           HAWKINS     HEMINGWAY  \n",
       "Title                                     Mr.           Mr.  \n",
       "Personal name                          Handel  John William  \n",
       "Fate                                    Saved         Saved  \n",
       "Age                                        25            27  \n",
       "Department/Class                         Band          Band  \n",
       "Passenger/Crew                           Crew          Crew  \n",
       "Citizenship                           British       British  \n",
       "Position                                Cello   Double Bass  \n",
       "Status                                    NaN           NaN  \n",
       "City                                      NaN           NaN  \n",
       "County                                    NaN           NaN  \n",
       "State                                     NaN           NaN  \n",
       "Country                                   NaN           NaN  \n",
       "Lifeboat                                  NaN           NaN  \n",
       "Rescue Vessel                             NaN           NaN  \n",
       "Body No.                                  NaN           NaN  \n",
       "Ticket No.                                NaN           NaN  \n",
       "Cabin No.                                 NaN           NaN  \n",
       "Traveling Companions and other notes      NaN           NaN  \n",
       "Value                                       1             1  \n",
       "Adult/Minor                             Adult         Adult  \n",
       "Sex                                      Male          Male  "
      ]
     },
     "execution_count": 661,
     "metadata": {},
     "output_type": "execute_result"
    }
   ],
   "source": [
    "lusitania_data.head().T"
   ]
  },
  {
   "cell_type": "markdown",
   "metadata": {},
   "source": [
    "#### Check that the age column doesn't have any unreasonable values "
   ]
  },
  {
   "cell_type": "markdown",
   "metadata": {},
   "source": [
    "#### Check for missing values.  How do you know that a value is missing?"
   ]
  },
  {
   "cell_type": "markdown",
   "metadata": {},
   "source": [
    "#### Does it makes sense to guess at the value?"
   ]
  },
  {
   "cell_type": "markdown",
   "metadata": {},
   "source": [
    "### Checking and cleaning data"
   ]
  },
  {
   "cell_type": "markdown",
   "metadata": {},
   "source": [
    "#### Titanic"
   ]
  },
  {
   "cell_type": "code",
   "execution_count": 662,
   "metadata": {
    "collapsed": true
   },
   "outputs": [],
   "source": [
    "# This function will be used for both Titanic and Lusitania for checking column values\n",
    "def column_data_explore(df, column):\n",
    "    nulls = sum(df[column].isnull())\n",
    "    data_type = df[column].dtype\n",
    "    unique_values = sorted(df[column].unique())\n",
    "    print (\"Number of null values are \" + column + \" column is \" + str(nulls))\n",
    "    print (column + \" column data type is \" + str(data_type))\n",
    "    print (\"Unique values for \" + column + \" column is as below:\")\n",
    "    print unique_values"
   ]
  },
  {
   "cell_type": "code",
   "execution_count": 663,
   "metadata": {
    "collapsed": false
   },
   "outputs": [
    {
     "name": "stdout",
     "output_type": "stream",
     "text": [
      "Number of null values are survived column is 0\n",
      "survived column data type is int64\n",
      "Unique values for survived column is as below:\n",
      "[0, 1]\n"
     ]
    }
   ],
   "source": [
    "# Checking the null values count and unique vlaues of survived column at titanic\n",
    "# No unreasonable values is found\n",
    "column_data_explore(titanic_data, \"survived\")"
   ]
  },
  {
   "cell_type": "code",
   "execution_count": 664,
   "metadata": {
    "collapsed": false,
    "scrolled": true
   },
   "outputs": [
    {
     "name": "stdout",
     "output_type": "stream",
     "text": [
      "Number of null values are age column is 263\n",
      "age column data type is float64\n",
      "Unique values for age column is as below:\n",
      "[0.92000000000000004, 2.0, 4.0, 11.0, 14.0, 17.0, 18.0, 19.0, 22.0, 23.0, 24.0, 25.0, 26.0, 27.0, 28.0, 29.0, 30.0, 31.0, 32.0, 33.0, 35.0, 36.0, 37.0, 38.0, 39.0, 40.0, 41.0, 42.0, 43.0, 44.0, 45.0, 46.0, 47.0, 48.0, 49.0, 50.0, 51.0, 53.0, 54.0, 55.0, 58.0, 59.0, 60.0, 63.0, 64.0, 70.0, 71.0, 76.0, 80.0, nan, 0.17000000000000001, 0.33000000000000002, 0.41999999999999998, 0.67000000000000004, 0.75, 0.82999999999999996, 1.0, 3.0, 5.0, 6.0, 7.0, 8.0, 9.0, 10.0, 11.5, 12.0, 13.0, 14.5, 15.0, 16.0, 18.5, 20.0, 20.5, 21.0, 22.5, 23.5, 24.5, 26.5, 28.5, 30.5, 32.5, 34.0, 34.5, 36.5, 38.5, 40.5, 45.5, 52.0, 55.5, 56.0, 57.0, 60.5, 61.0, 62.0, 65.0, 66.0, 67.0, 70.5, 74.0]\n"
     ]
    }
   ],
   "source": [
    "# Checking the null values count and unique vlaues of age column at titanic\n",
    "# No unreasonable values is found, 263 enteries are missing\n",
    "column_data_explore(titanic_data, \"age\")"
   ]
  },
  {
   "cell_type": "code",
   "execution_count": 665,
   "metadata": {
    "collapsed": false,
    "scrolled": true
   },
   "outputs": [
    {
     "name": "stdout",
     "output_type": "stream",
     "text": [
      "Number of null values are pclass column is 0\n",
      "pclass column data type is int64\n",
      "Unique values for pclass column is as below:\n",
      "[1, 2, 3]\n"
     ]
    }
   ],
   "source": [
    "# Checking the null values count and unique vlaues of pclass column at titanic\n",
    "# No unreasonable values is found\n",
    "column_data_explore(titanic_data, \"pclass\")"
   ]
  },
  {
   "cell_type": "code",
   "execution_count": 666,
   "metadata": {
    "collapsed": false
   },
   "outputs": [
    {
     "name": "stdout",
     "output_type": "stream",
     "text": [
      "Number of null values are sex column is 0\n",
      "sex column data type is object\n",
      "Unique values for sex column is as below:\n",
      "['female', 'male']\n"
     ]
    }
   ],
   "source": [
    "# Checking the null values count and unique vlaues of sex column at titanic\n",
    "# No unreasonable values is found\n",
    "column_data_explore(titanic_data, \"sex\")"
   ]
  },
  {
   "cell_type": "code",
   "execution_count": 667,
   "metadata": {
    "collapsed": false
   },
   "outputs": [
    {
     "name": "stdout",
     "output_type": "stream",
     "text": [
      "Number of null values are embarked column is 2\n",
      "embarked column data type is object\n",
      "Unique values for embarked column is as below:\n",
      "[nan, 'C', 'Q', 'S']\n"
     ]
    }
   ],
   "source": [
    "# Checking the null values count and unique vlaues of embarked column at titanic\n",
    "# No unreasonable values is found, 2 entries are missing\n",
    "column_data_explore(titanic_data, \"embarked\")"
   ]
  },
  {
   "cell_type": "code",
   "execution_count": 668,
   "metadata": {
    "collapsed": true
   },
   "outputs": [],
   "source": [
    "# Titles are extracted from name column using this function\n",
    "def extract_title(name):\n",
    "    comma_pos = name.find(\",\")\n",
    "    name_temp = name[comma_pos+1:]\n",
    "    dot_pos = name_temp.find(\".\")\n",
    "    title = name_temp[0:dot_pos]\n",
    "    return(title.strip())\n",
    "    "
   ]
  },
  {
   "cell_type": "code",
   "execution_count": 669,
   "metadata": {
    "collapsed": false
   },
   "outputs": [
    {
     "data": {
      "text/plain": [
       "array(['Miss', 'Master', 'Mr', 'Mrs', 'Col', 'Mme', 'Dr', 'Major', 'Capt',\n",
       "       'Lady', 'Sir', 'Mlle', 'Dona', 'Jonkheer', 'the Countess', 'Don',\n",
       "       'Rev', 'Ms'], dtype=object)"
      ]
     },
     "execution_count": 669,
     "metadata": {},
     "output_type": "execute_result"
    }
   ],
   "source": [
    "# Extracting the title column and checking unique vlaues\n",
    "# Some unreasonable values are found\n",
    "titanic_data[\"title\"] = titanic_data.name.apply(extract_title)\n",
    "titanic_data[\"title\"].unique()"
   ]
  },
  {
   "cell_type": "code",
   "execution_count": 670,
   "metadata": {
    "collapsed": false
   },
   "outputs": [
    {
     "data": {
      "text/plain": [
       "array(['Mr', 'Dr', 'Mrs', 'Miss', 'Master', 'Ms'], dtype=object)"
      ]
     },
     "execution_count": 670,
     "metadata": {},
     "output_type": "execute_result"
    }
   ],
   "source": [
    "# But they belong to the rows that age is not null so no further action needed\n",
    "titanic_data[\"title\"][titanic_data.age.isnull()].unique()"
   ]
  },
  {
   "cell_type": "markdown",
   "metadata": {},
   "source": [
    "### Checking and cleaning data"
   ]
  },
  {
   "cell_type": "markdown",
   "metadata": {},
   "source": [
    "#### Lusitania"
   ]
  },
  {
   "cell_type": "code",
   "execution_count": 671,
   "metadata": {
    "collapsed": false,
    "scrolled": false
   },
   "outputs": [
    {
     "name": "stdout",
     "output_type": "stream",
     "text": [
      "Number of null values are Age column is 653\n",
      "Age column data type is object\n",
      "Unique values for Age column is as below:\n",
      "[nan, u'02-months', u'03-months', u'05-months', u'06-months', u'08-months', u'09-months', u'1', u'1.5', u'10', u'10-months', u'11', u'11-months', u'11-months (3?)', u'12', u'13', u'13-months', u'14', u'14-months', u'15', u'15-months', u'16', u'16 ?', u'17', u'17-months', u'18', u'18-months', u'19', u'19 ?', u'2', u'2.5', u'20', u'21', u'21?', u'22', u'22 (?)', u'23', u'24', u'24 (23?)', u'25', u'25 ?', u'26', u'26?', u'27', u'27?', u'28', u'29', u'29 ?', u'2_', u'3', u'3-6-months ?', u'30', u'30 ?', u'31', u'31 (32?)', u'31 ?', u'32', u'32 (22?)', u'33', u'34', u'34?', u'35', u'36', u'37', u'37 (39?)', u'38', u'38 (?)', u'39', u'39 (47?)', u'4', u'4.25', u'40', u'41', u'42', u'42?', u'43', u'44', u'45', u'45 or 51', u'46', u'47', u'48', u'49', u'49 ?', u'5', u'50', u'51', u'51 or 47', u'52', u'53', u'53 ?', u'54', u'54?', u'55', u'56', u'57', u'58', u'59', u'59 (64?)', u'6', u'60', u'61', u'62', u'62 (?)', u'63', u'63 (51?)', u'63 ?', u'64', u'65', u'67', u'68', u'69', u'7', u'70', u'72', u'73', u'76', u'8', u'9', u'?', u'Infant']\n"
     ]
    }
   ],
   "source": [
    "# Checking the null values count and unique vlaues of Age column at Lusitania\n",
    "# Some unreasonable values are found which should be handled, 653 enteries are missing\n",
    "column_data_explore(lusitania_data, \"Age\")"
   ]
  },
  {
   "cell_type": "code",
   "execution_count": 672,
   "metadata": {
    "collapsed": false
   },
   "outputs": [],
   "source": [
    "# Based on the nature of unreasonable values, following functions are created to extract age and convert them to float\n",
    "\n",
    "# Extracts and averages two numbers found in some cells\n",
    "def convert_string_with_two_ages(number_string, unit, char):\n",
    "    char_pos = number_string.find(char)\n",
    "    first_number = float(number_string[0:char_pos])\n",
    "    second_number = float(number_string[char_pos+len(char):])\n",
    "    if unit == \"month\":\n",
    "        number = (first_number + second_number) / 2 / 12\n",
    "    elif unit == \"year\":\n",
    "        number = (first_number + second_number) / 2\n",
    "    return(number)\n",
    "        \n",
    "# Converts the entry to float while handling value error by removing non digit characters\n",
    "def convert_age_to_float(string):\n",
    "    try:\n",
    "        return(float(string))\n",
    "    except Exception:\n",
    "        if re.search(\"months\", string):\n",
    "            number_part = string[0:string.find('-months')]\n",
    "            dash_pos = number_part.find('-')\n",
    "            if (dash_pos + 1):\n",
    "                number = convert_string_with_two_ages(number_part, \"month\", \"-\")\n",
    "            else:\n",
    "                number = float(number_part) / 12\n",
    "            return(number)\n",
    "        if re.search(\"or\", string):\n",
    "            number = convert_string_with_two_ages(string, \"year\", \" or \")\n",
    "            return(number)\n",
    "        if re.search(\"Infant\", string):\n",
    "            return(1.0)\n",
    "        chars = [\"?\", \"-\", \"_\", \"(\", \")\"]\n",
    "        escaped_chars = [\"\\?\", \"-\", \"_\", \"\\(\", \"\\)\"]\n",
    "        for i, char in enumerate(escaped_chars):\n",
    "            if (re.search(char, string)):\n",
    "                string = string.replace(chars[i], \"\")\n",
    "        if string == \"\":\n",
    "            number = np.nan\n",
    "        else:\n",
    "            try:\n",
    "                number = float(string.strip())\n",
    "            except Exception:\n",
    "                number = convert_string_with_two_ages(string, \"year\", \" \")\n",
    "        return(number)\n",
    "        "
   ]
  },
  {
   "cell_type": "code",
   "execution_count": 673,
   "metadata": {
    "collapsed": false
   },
   "outputs": [],
   "source": [
    "# Using above functions all data at the Age column are converted to float\n",
    "lusitania_data[\"Age\"] = lusitania_data.Age.apply(convert_age_to_float)"
   ]
  },
  {
   "cell_type": "code",
   "execution_count": 674,
   "metadata": {
    "collapsed": false
   },
   "outputs": [
    {
     "name": "stdout",
     "output_type": "stream",
     "text": [
      "Number of null values are Age column is 654\n",
      "Age column data type is float64\n",
      "Unique values for Age column is as below:\n",
      "[0.16666666666666666, 0.25, 0.375, 0.41666666666666669, 0.5, 0.66666666666666663, 0.75, 0.83333333333333337, 0.91666666666666663, 1.0, 1.0833333333333333, 1.1666666666666667, 1.25, 1.4166666666666667, 1.5, 2.0, 2.5, 3.0, 4.0, 4.25, 5.0, 6.0, 7.0, 8.0, 9.0, 10.0, 11.0, 12.0, 13.0, 14.0, 15.0, 16.0, 17.0, 18.0, 19.0, 20.0, 21.0, 22.0, 23.0, 23.5, 24.0, 25.0, 26.0, 27.0, 28.0, 29.0, 30.0, 31.0, 31.5, 32.0, 33.0, 34.0, 35.0, 36.0, 37.0, 38.0, 39.0, 40.0, 43.0, 48.0, nan, 41.0, 42.0, 44.0, 45.0, 46.0, 47.0, 49.0, 50.0, 51.0, 52.0, 53.0, 54.0, 55.0, 56.0, 57.0, 58.0, 59.0, 60.0, 61.0, 61.5, 62.0, 63.0, 64.0, 65.0, 67.0, 68.0, 69.0, 70.0, 72.0, 73.0, 76.0]\n"
     ]
    }
   ],
   "source": [
    "# Checking the null values count and unique vlaues of the cleaned Age column at Lusitania\n",
    "# No unreasonable values are found, 654 enteries are missing\n",
    "column_data_explore(lusitania_data, \"Age\")"
   ]
  },
  {
   "cell_type": "code",
   "execution_count": 675,
   "metadata": {
    "collapsed": false
   },
   "outputs": [
    {
     "name": "stdout",
     "output_type": "stream",
     "text": [
      "Number of null values are Title column is 0\n",
      "Title column data type is object\n",
      "Unique values for Title column is as below:\n",
      "[u'Captain', u'Commander', u'Detective-Inspector', u'Dr.', u'Father', u'Lady', u'Lieutenant', u'Master', u'Master (?)', u'Miss', u'Mr.', u'Mr. ', u'Mr. (later Sir)', u'Mrs.', u'Professor', u'Reverend', u'Sir', u'Sister', u'Surgeon-Major']\n"
     ]
    }
   ],
   "source": [
    "# Checking the null values count and unique vlaues of the Title column at Lusitania\n",
    "# Some unreasonable values are found\n",
    "column_data_explore(lusitania_data, \"Title\")"
   ]
  },
  {
   "cell_type": "code",
   "execution_count": 676,
   "metadata": {
    "collapsed": false
   },
   "outputs": [],
   "source": [
    "# This function is created to clean some values in the Title column\n",
    "def title_cleaned(title):\n",
    "    if re.search(\"Mr.\", title):\n",
    "        title = \"Mr.\"\n",
    "        return(title)\n",
    "    elif re.search(\"Master\", title):\n",
    "        title = \"Master\"\n",
    "        return(title)\n",
    "    else:\n",
    "        return(title)\n"
   ]
  },
  {
   "cell_type": "code",
   "execution_count": 677,
   "metadata": {
    "collapsed": true
   },
   "outputs": [],
   "source": [
    "# Using above function Title column is cleaned\n",
    "lusitania_data[\"Title\"] = lusitania_data.Title.apply(title_cleaned)"
   ]
  },
  {
   "cell_type": "code",
   "execution_count": 678,
   "metadata": {
    "collapsed": false,
    "scrolled": true
   },
   "outputs": [
    {
     "name": "stdout",
     "output_type": "stream",
     "text": [
      "Number of null values are Title column is 0\n",
      "Title column data type is object\n",
      "Unique values for Title column is as below:\n",
      "[u'Captain', u'Commander', u'Detective-Inspector', u'Dr.', u'Father', u'Lady', u'Lieutenant', 'Master', u'Miss', 'Mr.', u'Professor', u'Reverend', u'Sir', u'Sister', u'Surgeon-Major']\n"
     ]
    }
   ],
   "source": [
    "# Checking the null values count and unique vlaues of the cleaned Title column at Lusitania\n",
    "# Some unreasonable values are found\n",
    "column_data_explore(lusitania_data, \"Title\")"
   ]
  },
  {
   "cell_type": "code",
   "execution_count": 679,
   "metadata": {
    "collapsed": false
   },
   "outputs": [
    {
     "data": {
      "text/plain": [
       "array(['Mr.', u'Miss', 'Master'], dtype=object)"
      ]
     },
     "execution_count": 679,
     "metadata": {},
     "output_type": "execute_result"
    }
   ],
   "source": [
    "# The rows with remaining odd titles don't miss Age values, so there is no need to group them\n",
    "lusitania_data[\"Title\"][lusitania_data.Age.isnull()].unique()"
   ]
  },
  {
   "cell_type": "code",
   "execution_count": 680,
   "metadata": {
    "collapsed": false
   },
   "outputs": [
    {
     "name": "stdout",
     "output_type": "stream",
     "text": [
      "Number of null values are Department/Class column is 0\n",
      "Department/Class column data type is object\n",
      "Unique values for Department/Class column is as below:\n",
      "[u'Band', u'Deck', u'Engineering', u'Saloon', u'Second', u'Stowaway', u'Third', u'Third (Distressed British Seaman)', u'Victualling']\n"
     ]
    }
   ],
   "source": [
    "# Checking the null values count and unique vlaues of the Department/Class column at Lusitania\n",
    "# No unreasonable values are found\n",
    "column_data_explore(lusitania_data, \"Department/Class\")"
   ]
  },
  {
   "cell_type": "code",
   "execution_count": 681,
   "metadata": {
    "collapsed": false
   },
   "outputs": [
    {
     "data": {
      "text/plain": [
       "array([u'Deck', u'Engineering', u'Saloon', u'Second', u'Stowaway',\n",
       "       u'Third', u'Third (Distressed British Seaman)', u'Victualling'], dtype=object)"
      ]
     },
     "execution_count": 681,
     "metadata": {},
     "output_type": "execute_result"
    }
   ],
   "source": [
    "# Based on the values corresponding to rows with missing age values no further action required\n",
    "lusitania_data[\"Department/Class\"][lusitania_data.Age.isnull()].unique()"
   ]
  },
  {
   "cell_type": "code",
   "execution_count": 682,
   "metadata": {
    "collapsed": false
   },
   "outputs": [
    {
     "name": "stdout",
     "output_type": "stream",
     "text": [
      "Number of null values are Sex column is 0\n",
      "Sex column data type is object\n",
      "Unique values for Sex column is as below:\n",
      "[u'Female', u'Male']\n"
     ]
    }
   ],
   "source": [
    "# Checking the null values count and unique vlaues of the Sex column at Lusitania\n",
    "# No unreasonable values are found\n",
    "column_data_explore(lusitania_data, \"Sex\")"
   ]
  },
  {
   "cell_type": "code",
   "execution_count": 683,
   "metadata": {
    "collapsed": false
   },
   "outputs": [
    {
     "name": "stdout",
     "output_type": "stream",
     "text": [
      "Number of null values are Passenger/Crew column is 0\n",
      "Passenger/Crew column data type is object\n",
      "Unique values for Passenger/Crew column is as below:\n",
      "[u'Crew', u'Passenger', u'Stowaway']\n"
     ]
    }
   ],
   "source": [
    "# Checking the null values count and unique vlaues of the Passenger/Crew column at Lusitania\n",
    "# No unreasonable values are found\n",
    "column_data_explore(lusitania_data, \"Passenger/Crew\")"
   ]
  },
  {
   "cell_type": "code",
   "execution_count": 684,
   "metadata": {
    "collapsed": false
   },
   "outputs": [
    {
     "name": "stdout",
     "output_type": "stream",
     "text": [
      "Number of null values are Adult/Minor column is 0\n",
      "Adult/Minor column data type is object\n",
      "Unique values for Adult/Minor column is as below:\n",
      "[u'Adult', u'Infant', u'Minor', u'Minor?']\n"
     ]
    }
   ],
   "source": [
    "# Checking the null values count and unique vlaues of the Adult/Minor column at Lusitania\n",
    "# Some unreasonable values are found\n",
    "column_data_explore(lusitania_data, \"Adult/Minor\")"
   ]
  },
  {
   "cell_type": "code",
   "execution_count": 685,
   "metadata": {
    "collapsed": true
   },
   "outputs": [],
   "source": [
    "# Values with question mark are cleaned\n",
    "lusitania_data[\"Adult/Minor\"] = lusitania_data[\"Adult/Minor\"].str.replace(\"Minor\\?\", \"Minor\")"
   ]
  },
  {
   "cell_type": "code",
   "execution_count": 686,
   "metadata": {
    "collapsed": false,
    "scrolled": true
   },
   "outputs": [
    {
     "name": "stdout",
     "output_type": "stream",
     "text": [
      "Number of null values are Adult/Minor column is 0\n",
      "Adult/Minor column data type is object\n",
      "Unique values for Adult/Minor column is as below:\n",
      "[u'Adult', u'Infant', u'Minor']\n"
     ]
    }
   ],
   "source": [
    "# Adult/Minor column is cleaned\n",
    "column_data_explore(lusitania_data, \"Adult/Minor\")"
   ]
  },
  {
   "cell_type": "code",
   "execution_count": 687,
   "metadata": {
    "collapsed": false,
    "scrolled": true
   },
   "outputs": [
    {
     "name": "stdout",
     "output_type": "stream",
     "text": [
      "Number of null values are Fate column is 0\n",
      "Fate column data type is object\n",
      "Unique values for Fate column is as below:\n",
      "[u'Lost', u'Not on board', u'Saved', u'Saved (died from trauma)']\n"
     ]
    }
   ],
   "source": [
    "# Checking the null values count and unique vlaues of the Adult/Minor column at Lusitania\n",
    "# Some unreasonable values are found\n",
    "column_data_explore(lusitania_data, \"Fate\")"
   ]
  },
  {
   "cell_type": "code",
   "execution_count": 688,
   "metadata": {
    "collapsed": false
   },
   "outputs": [
    {
     "data": {
      "text/plain": [
       "array([u'Lost', u'Saved', u'Not on board'], dtype=object)"
      ]
     },
     "execution_count": 688,
     "metadata": {},
     "output_type": "execute_result"
    }
   ],
   "source": [
    "lusitania_data[\"Fate\"][lusitania_data.Age.isnull()].unique()"
   ]
  },
  {
   "cell_type": "code",
   "execution_count": 689,
   "metadata": {
    "collapsed": true
   },
   "outputs": [],
   "source": [
    "# Enteries with value \"Saved (died from trauma)\" is converted to \"Lost\"\n",
    "# Enteries with value \"Not on board\" will be deleted later\n",
    "lusitania_data[\"Fate\"] = lusitania_data[\"Fate\"].str.replace(\"Saved \\(died from trauma\\)\", \"Lost\")"
   ]
  },
  {
   "cell_type": "code",
   "execution_count": 690,
   "metadata": {
    "collapsed": false
   },
   "outputs": [
    {
     "name": "stdout",
     "output_type": "stream",
     "text": [
      "Number of null values are Fate column is 0\n",
      "Fate column data type is object\n",
      "Unique values for Fate column is as below:\n",
      "[u'Lost', u'Not on board', u'Saved']\n"
     ]
    }
   ],
   "source": [
    "# Cleaned Fate column\n",
    "column_data_explore(lusitania_data, \"Fate\")"
   ]
  },
  {
   "cell_type": "markdown",
   "metadata": {},
   "source": [
    "## Part 3: data imputation"
   ]
  },
  {
   "cell_type": "markdown",
   "metadata": {},
   "source": [
    "#### Well let’s say that it does... You likely noticed that Age has some missing values. How many are missing?"
   ]
  },
  {
   "cell_type": "markdown",
   "metadata": {},
   "source": [
    "##### There are 263 values missing from Age column of Titanic data.\n",
    "##### There are 654 values missing from Age column of Lusitania data."
   ]
  },
  {
   "cell_type": "markdown",
   "metadata": {},
   "source": [
    "#### For the Age of the passangers ... how would you guess at the missing values using the other data present in the CSV."
   ]
  },
  {
   "cell_type": "markdown",
   "metadata": {},
   "source": [
    "### Removing null values in age column"
   ]
  },
  {
   "cell_type": "markdown",
   "metadata": {},
   "source": [
    "#### Titanic data"
   ]
  },
  {
   "cell_type": "code",
   "execution_count": 691,
   "metadata": {
    "collapsed": false
   },
   "outputs": [],
   "source": [
    "# This function replaces the null values in the age column of the Titanic data with the median of the rows\n",
    "# with similar pclass, sex, and title values\n",
    "def similar_data_age_median_t(r_pclass, r_sex, r_title):\n",
    "    median = ((titanic_data[\"age\"][(titanic_data[\"pclass\"] == r_pclass) & (titanic_data[\"sex\"] == r_sex) & \n",
    "                    (titanic_data[\"title\"] == r_title)]).median())\n",
    "    return(median)"
   ]
  },
  {
   "cell_type": "code",
   "execution_count": 692,
   "metadata": {
    "collapsed": false,
    "scrolled": true
   },
   "outputs": [
    {
     "name": "stderr",
     "output_type": "stream",
     "text": [
      "/opt/conda/envs/python2/lib/python2.7/site-packages/ipykernel/__main__.py:6: SettingWithCopyWarning: \n",
      "A value is trying to be set on a copy of a slice from a DataFrame\n",
      "\n",
      "See the caveats in the documentation: http://pandas.pydata.org/pandas-docs/stable/indexing.html#indexing-view-versus-copy\n"
     ]
    }
   ],
   "source": [
    "# Using name rows are uniquely identified\n",
    "for i in range(titanic_data.shape[0]):\n",
    "    if math.isnan(titanic_data.iloc[i][\"age\"]):\n",
    "        name = titanic_data.iloc[i][\"name\"]\n",
    "        titanic_data[\"age\"][titanic_data[\"name\"] == name] = (similar_data_age_median_t(titanic_data.iloc[i][\"pclass\"],\n",
    "                                    titanic_data.iloc[i][\"sex\"], titanic_data.iloc[i][\"title\"]))\n"
   ]
  },
  {
   "cell_type": "markdown",
   "metadata": {},
   "source": [
    "### Removing null values in age column"
   ]
  },
  {
   "cell_type": "markdown",
   "metadata": {},
   "source": [
    "#### Lusitania data"
   ]
  },
  {
   "cell_type": "code",
   "execution_count": 694,
   "metadata": {
    "collapsed": true
   },
   "outputs": [],
   "source": [
    "# This function replaces the null values in the Age column of the Lusitania data with the median of the rows\n",
    "# with similar pclass, sex, and title values\n",
    "def similar_data_age_median_l(r_passenger_crew, r_sex, r_title, r_adult_minor):\n",
    "    median = ((lusitania_data[\"Age\"][(lusitania_data[\"Passenger/Crew\"] == r_passenger_crew) & (lusitania_data[\"Sex\"] == r_sex) & \n",
    "                    (lusitania_data[\"Title\"] == r_title) & (lusitania_data[\"Adult/Minor\"] == r_adult_minor)]).median())\n",
    "    return(median)"
   ]
  },
  {
   "cell_type": "code",
   "execution_count": 695,
   "metadata": {
    "collapsed": false
   },
   "outputs": [
    {
     "name": "stderr",
     "output_type": "stream",
     "text": [
      "/opt/conda/envs/python2/lib/python2.7/site-packages/ipykernel/__main__.py:8: SettingWithCopyWarning: \n",
      "A value is trying to be set on a copy of a slice from a DataFrame\n",
      "\n",
      "See the caveats in the documentation: http://pandas.pydata.org/pandas-docs/stable/indexing.html#indexing-view-versus-copy\n",
      "/opt/conda/envs/python2/lib/python2.7/site-packages/ipykernel/__main__.py:11: SettingWithCopyWarning: \n",
      "A value is trying to be set on a copy of a slice from a DataFrame\n",
      "\n",
      "See the caveats in the documentation: http://pandas.pydata.org/pandas-docs/stable/indexing.html#indexing-view-versus-copy\n"
     ]
    }
   ],
   "source": [
    "# Using personal and family name rows are uniquely identified\n",
    "for i in range(lusitania_data.shape[0]):\n",
    "    if math.isnan(lusitania_data.iloc[i][\"Age\"]):\n",
    "        fname = lusitania_data.iloc[i][\"Family name\"]\n",
    "        pname = lusitania_data.iloc[i][\"Personal name\"]\n",
    "        sdam = similar_data_age_median_l(lusitania_data.iloc[i][\"Passenger/Crew\"],lusitania_data.iloc[i][\"Sex\"], \n",
    "            lusitania_data.iloc[i][\"Title\"], lusitania_data.iloc[i][\"Adult/Minor\"])\n",
    "        lusitania_data[\"Age\"][(lusitania_data[\"Family name\"] == fname) & (lusitania_data[\"Personal name\"] == pname)] = sdam\n",
    "\n",
    "# Total of 3 rows didn't have personal and family name so their age is been set to the median of the all age values\n",
    "lusitania_data[\"Age\"][lusitania_data[\"Age\"].isnull()] = lusitania_data[\"Age\"].median()"
   ]
  },
  {
   "cell_type": "code",
   "execution_count": 696,
   "metadata": {
    "collapsed": true
   },
   "outputs": [],
   "source": [
    "# Rows with people not on board are deleted\n",
    "lusitania_data = lusitania_data[lusitania_data[\"Fate\"] != \"Not on board\"]"
   ]
  },
  {
   "cell_type": "markdown",
   "metadata": {},
   "source": [
    "## Part 4: Group Statistics"
   ]
  },
  {
   "cell_type": "markdown",
   "metadata": {
    "collapsed": true
   },
   "source": [
    "#### Are there any groups that were especially adversely affected in the Titanic wreck? (justify your response numerically)"
   ]
  },
  {
   "cell_type": "code",
   "execution_count": 697,
   "metadata": {
    "collapsed": false,
    "scrolled": true
   },
   "outputs": [],
   "source": [
    "# Grouping passenger in 5 different categories\n",
    "def group_age(age):\n",
    "    if age < 7:\n",
    "        return(\"1_Child\")\n",
    "    elif age < 18:\n",
    "        return(\"2_Teen\")\n",
    "    elif age < 30:\n",
    "        return(\"3_Young\")\n",
    "    elif age < 50:\n",
    "        return(\"4_Middle_aged\")\n",
    "    else:\n",
    "        return(\"5_Senior\")\n",
    "\n"
   ]
  },
  {
   "cell_type": "code",
   "execution_count": 698,
   "metadata": {
    "collapsed": false
   },
   "outputs": [
    {
     "data": {
      "text/html": [
       "<div>\n",
       "<table border=\"1\" class=\"dataframe\">\n",
       "  <thead>\n",
       "    <tr style=\"text-align: right;\">\n",
       "      <th>age_group</th>\n",
       "      <th>1_Child</th>\n",
       "      <th>2_Teen</th>\n",
       "      <th>3_Young</th>\n",
       "      <th>4_Middle_aged</th>\n",
       "      <th>5_Senior</th>\n",
       "    </tr>\n",
       "    <tr>\n",
       "      <th>sex</th>\n",
       "      <th></th>\n",
       "      <th></th>\n",
       "      <th></th>\n",
       "      <th></th>\n",
       "      <th></th>\n",
       "    </tr>\n",
       "  </thead>\n",
       "  <tbody>\n",
       "    <tr>\n",
       "      <th>female</th>\n",
       "      <td>0.70</td>\n",
       "      <td>0.690476</td>\n",
       "      <td>0.682051</td>\n",
       "      <td>0.762500</td>\n",
       "      <td>0.871795</td>\n",
       "    </tr>\n",
       "    <tr>\n",
       "      <th>male</th>\n",
       "      <td>0.55</td>\n",
       "      <td>0.240000</td>\n",
       "      <td>0.150617</td>\n",
       "      <td>0.202899</td>\n",
       "      <td>0.138889</td>\n",
       "    </tr>\n",
       "  </tbody>\n",
       "</table>\n",
       "</div>"
      ],
      "text/plain": [
       "age_group  1_Child    2_Teen   3_Young  4_Middle_aged  5_Senior\n",
       "sex                                                            \n",
       "female        0.70  0.690476  0.682051       0.762500  0.871795\n",
       "male          0.55  0.240000  0.150617       0.202899  0.138889"
      ]
     },
     "execution_count": 698,
     "metadata": {},
     "output_type": "execute_result"
    }
   ],
   "source": [
    "# Survival rate for different age groups and sex\n",
    "titanic_data[\"age_group\"] = titanic_data[\"age\"].apply(group_age)\n",
    "titanic_survival_sex_age_group = titanic_data.pivot_table('survived', index='sex', columns=['age_group'], aggfunc=np.mean)\n",
    "titanic_survival_sex_age_group"
   ]
  },
  {
   "cell_type": "code",
   "execution_count": 699,
   "metadata": {
    "collapsed": false
   },
   "outputs": [
    {
     "data": {
      "text/plain": [
       "<matplotlib.axes._subplots.AxesSubplot at 0x7fd8059625d0>"
      ]
     },
     "execution_count": 699,
     "metadata": {},
     "output_type": "execute_result"
    },
    {
     "data": {
      "image/png": "[encoded data removed]",
      "text/plain": [
       "<matplotlib.figure.Figure at 0x7fd805962990>"
      ]
     },
     "metadata": {},
     "output_type": "display_data"
    }
   ],
   "source": [
    "titanic_survival_sex_age_group.plot()"
   ]
  },
  {
   "cell_type": "code",
   "execution_count": 700,
   "metadata": {
    "collapsed": false
   },
   "outputs": [
    {
     "data": {
      "text/html": [
       "<div>\n",
       "<table border=\"1\" class=\"dataframe\">\n",
       "  <thead>\n",
       "    <tr style=\"text-align: right;\">\n",
       "      <th>pclass</th>\n",
       "      <th>1</th>\n",
       "      <th>2</th>\n",
       "      <th>3</th>\n",
       "    </tr>\n",
       "    <tr>\n",
       "      <th>sex</th>\n",
       "      <th></th>\n",
       "      <th></th>\n",
       "      <th></th>\n",
       "    </tr>\n",
       "  </thead>\n",
       "  <tbody>\n",
       "    <tr>\n",
       "      <th>female</th>\n",
       "      <td>0.965278</td>\n",
       "      <td>0.886792</td>\n",
       "      <td>0.490741</td>\n",
       "    </tr>\n",
       "    <tr>\n",
       "      <th>male</th>\n",
       "      <td>0.340782</td>\n",
       "      <td>0.146199</td>\n",
       "      <td>0.152130</td>\n",
       "    </tr>\n",
       "  </tbody>\n",
       "</table>\n",
       "</div>"
      ],
      "text/plain": [
       "pclass         1         2         3\n",
       "sex                                 \n",
       "female  0.965278  0.886792  0.490741\n",
       "male    0.340782  0.146199  0.152130"
      ]
     },
     "execution_count": 700,
     "metadata": {},
     "output_type": "execute_result"
    }
   ],
   "source": [
    "# Survival rate for different age groups, class and sex\n",
    "titanic_data[\"age_group\"] = titanic_data[\"age\"].apply(group_age)\n",
    "titanic_survival_sex_pclass = titanic_data.pivot_table('survived', index='sex', columns=['pclass'], aggfunc=np.mean)\n",
    "titanic_survival_sex_pclass"
   ]
  },
  {
   "cell_type": "code",
   "execution_count": 701,
   "metadata": {
    "collapsed": false
   },
   "outputs": [
    {
     "data": {
      "text/plain": [
       "<matplotlib.axes._subplots.AxesSubplot at 0x7fd804efc650>"
      ]
     },
     "execution_count": 701,
     "metadata": {},
     "output_type": "execute_result"
    },
    {
     "data": {
      "image/png": "[encoded data removed]",
      "text/plain": [
       "<matplotlib.figure.Figure at 0x7fd80577a090>"
      ]
     },
     "metadata": {},
     "output_type": "display_data"
    }
   ],
   "source": [
    "titanic_survival_sex_pclass.plot()"
   ]
  },
  {
   "cell_type": "markdown",
   "metadata": {},
   "source": [
    "#### Are there any groups that outperformed the survival of the latter group? (justify your response numerically)\n"
   ]
  },
  {
   "cell_type": "markdown",
   "metadata": {},
   "source": [
    "#### Survival rate for different sex"
   ]
  },
  {
   "cell_type": "code",
   "execution_count": 702,
   "metadata": {
    "collapsed": false
   },
   "outputs": [
    {
     "data": {
      "text/plain": [
       "0.19098457888493475"
      ]
     },
     "execution_count": 702,
     "metadata": {},
     "output_type": "execute_result"
    }
   ],
   "source": [
    "titanic_male_survival_rate = np.mean(titanic_data[\"survived\"][titanic_data[\"sex\"] == \"male\"])\n",
    "titanic_male_survival_rate"
   ]
  },
  {
   "cell_type": "code",
   "execution_count": 703,
   "metadata": {
    "collapsed": false
   },
   "outputs": [
    {
     "data": {
      "text/plain": [
       "0.72746781115879833"
      ]
     },
     "execution_count": 703,
     "metadata": {},
     "output_type": "execute_result"
    }
   ],
   "source": [
    "titanic_female_survival_rate = np.mean(titanic_data[\"survived\"][titanic_data[\"sex\"] == \"female\"])\n",
    "titanic_female_survival_rate"
   ]
  },
  {
   "cell_type": "code",
   "execution_count": 704,
   "metadata": {
    "collapsed": false
   },
   "outputs": [
    {
     "data": {
      "text/plain": [
       "0.33123463931849773"
      ]
     },
     "execution_count": 704,
     "metadata": {},
     "output_type": "execute_result"
    }
   ],
   "source": [
    "# Chi squared test using pivot table of sex and age groups, survival rate\n",
    "chisq_value, pvalue_gender_survival, titanic_data, expected = chi2_contingency(titanic_survival_sex_age_group)\n",
    "chisq_value"
   ]
  },
  {
   "cell_type": "code",
   "execution_count": 705,
   "metadata": {
    "collapsed": false
   },
   "outputs": [
    {
     "data": {
      "text/plain": [
       "0.051250751853985789"
      ]
     },
     "execution_count": 705,
     "metadata": {},
     "output_type": "execute_result"
    }
   ],
   "source": [
    "# Chi squared test using pivot table of sex and passenger class, survival rate\n",
    "chisq_value, pvalue_gender_survival, titanic_data, expected = chi2_contingency(titanic_survival_sex_pclass)\n",
    "chisq_value"
   ]
  },
  {
   "cell_type": "markdown",
   "metadata": {
    "collapsed": true
   },
   "source": [
    "## Part 5:  Comparative Statistics:  Lusitania"
   ]
  },
  {
   "cell_type": "markdown",
   "metadata": {
    "collapsed": true
   },
   "source": [
    "#### Are there any groups that were especially adversely affected in the Titanic wreck? (justify your response numerically)"
   ]
  },
  {
   "cell_type": "code",
   "execution_count": 707,
   "metadata": {
    "collapsed": false
   },
   "outputs": [],
   "source": [
    "# Converting Fate and Passenger/Crew columns values to binary values\n",
    "lb = preprocessing.LabelBinarizer()\n",
    "lusitania_data[\"Binarized_Fate\"] = lb.fit_transform(lusitania_data[\"Fate\"])\n",
    "lusitania_data[\"Binarized_Passenger/Crew\"] = lusitania_data[\"Passenger/Crew\"]\n",
    "lusitania_data[\"Binarized_Passenger/Crew\"] = lb.fit_transform(lusitania_data[\"Binarized_Passenger/Crew\"])\n",
    "lusitania_data[\"Binarized_Passenger/Crew\"][lusitania_data[\"Passenger/Crew\"] == \"Stowaway\"] = 1"
   ]
  },
  {
   "cell_type": "code",
   "execution_count": 720,
   "metadata": {
    "collapsed": false
   },
   "outputs": [
    {
     "name": "stderr",
     "output_type": "stream",
     "text": [
      "/opt/conda/envs/python2/lib/python2.7/site-packages/ipykernel/__main__.py:1: SettingWithCopyWarning: \n",
      "A value is trying to be set on a copy of a slice from a DataFrame\n",
      "\n",
      "See the caveats in the documentation: http://pandas.pydata.org/pandas-docs/stable/indexing.html#indexing-view-versus-copy\n",
      "  if __name__ == '__main__':\n"
     ]
    }
   ],
   "source": []
  },
  {
   "cell_type": "code",
   "execution_count": 721,
   "metadata": {
    "collapsed": false
   },
   "outputs": [
    {
     "data": {
      "text/html": [
       "<div>\n",
       "<table border=\"1\" class=\"dataframe\">\n",
       "  <thead>\n",
       "    <tr style=\"text-align: right;\">\n",
       "      <th>Adult/Minor</th>\n",
       "      <th>Adult</th>\n",
       "      <th>Infant</th>\n",
       "      <th>Minor</th>\n",
       "    </tr>\n",
       "    <tr>\n",
       "      <th>Sex</th>\n",
       "      <th></th>\n",
       "      <th></th>\n",
       "      <th></th>\n",
       "    </tr>\n",
       "  </thead>\n",
       "  <tbody>\n",
       "    <tr>\n",
       "      <th>Female</th>\n",
       "      <td>0.374723</td>\n",
       "      <td>0.125000</td>\n",
       "      <td>0.40000</td>\n",
       "    </tr>\n",
       "    <tr>\n",
       "      <th>Male</th>\n",
       "      <td>0.400299</td>\n",
       "      <td>0.225806</td>\n",
       "      <td>0.39726</td>\n",
       "    </tr>\n",
       "  </tbody>\n",
       "</table>\n",
       "</div>"
      ],
      "text/plain": [
       "Adult/Minor     Adult    Infant    Minor\n",
       "Sex                                     \n",
       "Female       0.374723  0.125000  0.40000\n",
       "Male         0.400299  0.225806  0.39726"
      ]
     },
     "execution_count": 721,
     "metadata": {},
     "output_type": "execute_result"
    }
   ],
   "source": [
    "# Survival rate for different age groups and sex\n",
    "\n",
    "lusitania_survival_sex_age_group = (lusitania_data.pivot_table('Binarized_Fate', index='Sex', \n",
    "                                                   columns=['Adult/Minor'], aggfunc=np.mean))\n",
    "lusitania_survival_sex_age_group"
   ]
  },
  {
   "cell_type": "code",
   "execution_count": 722,
   "metadata": {
    "collapsed": false
   },
   "outputs": [
    {
     "data": {
      "text/plain": [
       "<matplotlib.axes._subplots.AxesSubplot at 0x7fd804f51090>"
      ]
     },
     "execution_count": 722,
     "metadata": {},
     "output_type": "execute_result"
    },
    {
     "data": {
      "image/png": "[encoded data removed]",
      "text/plain": [
       "<matplotlib.figure.Figure at 0x7fd804ee1350>"
      ]
     },
     "metadata": {},
     "output_type": "display_data"
    }
   ],
   "source": [
    "lusitania_survival_sex_age_group.plot()"
   ]
  },
  {
   "cell_type": "code",
   "execution_count": 723,
   "metadata": {
    "collapsed": false,
    "scrolled": true
   },
   "outputs": [
    {
     "data": {
      "text/html": [
       "<div>\n",
       "<table border=\"1\" class=\"dataframe\">\n",
       "  <thead>\n",
       "    <tr style=\"text-align: right;\">\n",
       "      <th>Binarized_Passenger/Crew</th>\n",
       "      <th>0</th>\n",
       "      <th>1</th>\n",
       "    </tr>\n",
       "    <tr>\n",
       "      <th>Sex</th>\n",
       "      <th></th>\n",
       "      <th></th>\n",
       "    </tr>\n",
       "  </thead>\n",
       "  <tbody>\n",
       "    <tr>\n",
       "      <th>Female</th>\n",
       "      <td>0.369919</td>\n",
       "      <td>0.360000</td>\n",
       "    </tr>\n",
       "    <tr>\n",
       "      <th>Male</th>\n",
       "      <td>0.376943</td>\n",
       "      <td>0.418778</td>\n",
       "    </tr>\n",
       "  </tbody>\n",
       "</table>\n",
       "</div>"
      ],
      "text/plain": [
       "Binarized_Passenger/Crew         0         1\n",
       "Sex                                         \n",
       "Female                    0.369919  0.360000\n",
       "Male                      0.376943  0.418778"
      ]
     },
     "execution_count": 723,
     "metadata": {},
     "output_type": "execute_result"
    }
   ],
   "source": [
    "# Survival rate for passenger/crew and sex\n",
    "\n",
    "lusitania_survival_sex_passanger_crew = (lusitania_data.pivot_table('Binarized_Fate', index='Sex', \n",
    "                                                 columns=['Binarized_Passenger/Crew'], aggfunc=np.mean))\n",
    "lusitania_survival_sex_passanger_crew"
   ]
  },
  {
   "cell_type": "code",
   "execution_count": 724,
   "metadata": {
    "collapsed": false
   },
   "outputs": [
    {
     "data": {
      "text/plain": [
       "<matplotlib.axes._subplots.AxesSubplot at 0x7fd80513fbd0>"
      ]
     },
     "execution_count": 724,
     "metadata": {},
     "output_type": "execute_result"
    },
    {
     "data": {
      "image/png": "[encoded data removed]",
      "text/plain": [
       "<matplotlib.figure.Figure at 0x7fd8051c76d0>"
      ]
     },
     "metadata": {},
     "output_type": "display_data"
    }
   ],
   "source": [
    "lusitania_survival_sex_passanger_crew.plot()"
   ]
  },
  {
   "cell_type": "markdown",
   "metadata": {
    "collapsed": true
   },
   "source": [
    "#### Are there any groups that outperformed the survival of the latter group? (justify your response numerically)\n",
    "\n"
   ]
  },
  {
   "cell_type": "code",
   "execution_count": 725,
   "metadata": {
    "collapsed": false
   },
   "outputs": [
    {
     "data": {
      "text/plain": [
       "0.3963963963963964"
      ]
     },
     "execution_count": 725,
     "metadata": {},
     "output_type": "execute_result"
    }
   ],
   "source": [
    "lusitania_male_survival_rate = np.mean(lusitania_data[\"Binarized_Fate\"][lusitania_data[\"Sex\"] == \"Male\"])\n",
    "lusitania_male_survival_rate"
   ]
  },
  {
   "cell_type": "code",
   "execution_count": 726,
   "metadata": {
    "collapsed": false
   },
   "outputs": [
    {
     "data": {
      "text/plain": [
       "0.36943907156673111"
      ]
     },
     "execution_count": 726,
     "metadata": {},
     "output_type": "execute_result"
    }
   ],
   "source": [
    "lusitania_female_survival_rate = np.mean(lusitania_data[\"Binarized_Fate\"][lusitania_data[\"Sex\"] == \"Female\"])\n",
    "lusitania_female_survival_rate"
   ]
  },
  {
   "cell_type": "code",
   "execution_count": 727,
   "metadata": {
    "collapsed": false
   },
   "outputs": [
    {
     "data": {
      "text/plain": [
       "0.37420886075949367"
      ]
     },
     "execution_count": 727,
     "metadata": {},
     "output_type": "execute_result"
    }
   ],
   "source": [
    "lusitania_passenger_survival_rate = np.mean(lusitania_data[\"Binarized_Fate\"][lusitania_data[\"Passenger/Crew\"] == \"Passenger\"])\n",
    "lusitania_passenger_survival_rate"
   ]
  },
  {
   "cell_type": "code",
   "execution_count": 728,
   "metadata": {
    "collapsed": false
   },
   "outputs": [
    {
     "data": {
      "text/plain": [
       "0.41847041847041849"
      ]
     },
     "execution_count": 728,
     "metadata": {},
     "output_type": "execute_result"
    }
   ],
   "source": [
    "lusitania_crew_survival_rate = np.mean(lusitania_data[\"Binarized_Fate\"][lusitania_data[\"Passenger/Crew\"] == \"Crew\"])\n",
    "lusitania_crew_survival_rate"
   ]
  },
  {
   "cell_type": "code",
   "execution_count": 730,
   "metadata": {
    "collapsed": false
   },
   "outputs": [
    {
     "data": {
      "text/plain": [
       "0.021962129654320782"
      ]
     },
     "execution_count": 730,
     "metadata": {},
     "output_type": "execute_result"
    }
   ],
   "source": [
    "chisq_value, pvalue_sex_age_survival, lusitania_data, expected = chi2_contingency(lusitania_survival_sex_age_group)\n",
    "chisq_value"
   ]
  },
  {
   "cell_type": "code",
   "execution_count": 731,
   "metadata": {
    "collapsed": false
   },
   "outputs": [
    {
     "data": {
      "text/plain": [
       "2.4971696818462572"
      ]
     },
     "execution_count": 731,
     "metadata": {},
     "output_type": "execute_result"
    }
   ],
   "source": [
    "chisq_value, pvalue_sex_passenger_crew_survival, lusitania_data, expected = chi2_contingency(lusitania_survival_sex_passanger_crew)\n",
    "chisq_value"
   ]
  },
  {
   "cell_type": "markdown",
   "metadata": {},
   "source": [
    "#### What does the group-wise survival rate imply about circumstances during these two accidents?"
   ]
  }
 ],
 "metadata": {
  "kernelspec": {
   "display_name": "Python 2",
   "language": "python",
   "name": "python2"
  },
  "language_info": {
   "codemirror_mode": {
    "name": "ipython",
    "version": 2
   },
   "file_extension": ".py",
   "mimetype": "text/x-python",
   "name": "python",
   "nbconvert_exporter": "python",
   "pygments_lexer": "ipython2",
   "version": "2.7.12"
  }
 },
 "nbformat": 4,
 "nbformat_minor": 0
}
